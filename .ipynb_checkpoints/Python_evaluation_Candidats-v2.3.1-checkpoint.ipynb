{
 "cells": [
  {
   "cell_type": "markdown",
   "metadata": {},
   "source": [
    "<p style='text-align: center; font-weight: 900; font-size: 30px'>----------------------------------------</p>\n",
    "\n",
    "<p style='text-align: center; font-size: 22px; font-weight: bold; line-height: 2em'>\n",
    "In each code block below, complete the line(s) containing the word <span style='color: red; font-style: italic;'>'fill in'</span> or <span style='color: green; font-style: italic;'>pass</span>, de manière à obtenir le résultat attendu (<i>Expected output</i>)\n",
    "</p>\n",
    "\n",
    "<p style='text-align: center; font-weight: 900; font-size: 30px'>----------------------------------------</p>"
   ]
  },
  {
   "cell_type": "markdown",
   "metadata": {},
   "source": [
    "## Python basics"
   ]
  },
  {
   "cell_type": "markdown",
   "metadata": {},
   "source": [
    "### Dictionary"
   ]
  },
  {
   "cell_type": "code",
   "execution_count": null,
   "metadata": {},
   "outputs": [],
   "source": [
    "dict_gen = {'<compléter>' for '<compléter>'}\n",
    "\n",
    "print(dict_gen)"
   ]
  },
  {
   "cell_type": "raw",
   "metadata": {},
   "source": [
    "Expected output:\n",
    "\n",
    "{0: 0, 1: 10, 2: 20, 3: 30, 4: 40}"
   ]
  },
  {
   "cell_type": "markdown",
   "metadata": {},
   "source": [
    "### Set"
   ]
  },
  {
   "cell_type": "code",
   "execution_count": null,
   "metadata": {},
   "outputs": [],
   "source": [
    "x = (1, 2, 3, 2)\n",
    "\n",
    "s = '<compléter>'(x)\n",
    "\n",
    "print(s)"
   ]
  },
  {
   "cell_type": "raw",
   "metadata": {},
   "source": [
    "Expected output:\n",
    "\n",
    "{1, 2, 3}"
   ]
  },
  {
   "cell_type": "markdown",
   "metadata": {},
   "source": [
    "### *args"
   ]
  },
  {
   "cell_type": "code",
   "execution_count": null,
   "metadata": {},
   "outputs": [],
   "source": [
    "def add_many(*args):\n",
    "    pass\n",
    "\n",
    "add_many(100, 50, 3)"
   ]
  },
  {
   "cell_type": "raw",
   "metadata": {},
   "source": [
    "Expected output:\n",
    "\n",
    "153"
   ]
  },
  {
   "cell_type": "markdown",
   "metadata": {},
   "source": [
    "### **kwargs"
   ]
  },
  {
   "cell_type": "code",
   "execution_count": null,
   "metadata": {},
   "outputs": [],
   "source": [
    "def to_dict(**kwargs):\n",
    "    pass\n",
    "\n",
    "to_dict(a=1, b=2, c=3)"
   ]
  },
  {
   "cell_type": "markdown",
   "metadata": {},
   "source": [
    "### Unpact lists"
   ]
  },
  {
   "cell_type": "code",
   "execution_count": null,
   "metadata": {},
   "outputs": [],
   "source": [
    "my_first_list = [1, 2, 3]\n",
    "my_second_list = [4, 5, 6]\n",
    "my_merged_list = '<compléter>'\n",
    "\n",
    "print(my_merged_list)"
   ]
  },
  {
   "cell_type": "raw",
   "metadata": {},
   "source": [
    "Expected output:\n",
    "\n",
    "[1, 2, 3, 4, 5, 6]"
   ]
  },
  {
   "cell_type": "markdown",
   "metadata": {},
   "source": [
    "### Lists to dataframes"
   ]
  },
  {
   "cell_type": "code",
   "execution_count": null,
   "metadata": {},
   "outputs": [],
   "source": [
    "import pandas as pd\n",
    "\n",
    "l = [(x, x**2) for x in range(3)]\n",
    "keys = [\"x\", \"x^2\"]\n",
    "values = '<compléter>'\n",
    "pd.DataFrame('<compléter>')"
   ]
  },
  {
   "cell_type": "raw",
   "metadata": {},
   "source": [
    "Expected output:\n",
    "\n",
    "\tx\tx^2\n",
    "0\t0\t0\n",
    "1\t1\t1\n",
    "2\t2\t4"
   ]
  },
  {
   "cell_type": "markdown",
   "metadata": {},
   "source": [
    "### lambda functions"
   ]
  },
  {
   "cell_type": "code",
   "execution_count": null,
   "metadata": {},
   "outputs": [],
   "source": [
    "power = '<compléter>' : '<compléter>'\n",
    "power(3, 4)"
   ]
  },
  {
   "cell_type": "raw",
   "metadata": {},
   "source": [
    "Expected output:\n",
    "\n",
    "81"
   ]
  },
  {
   "cell_type": "markdown",
   "metadata": {},
   "source": [
    "### Iterators"
   ]
  },
  {
   "cell_type": "code",
   "execution_count": null,
   "metadata": {},
   "outputs": [],
   "source": [
    "def loop_iterator(iterator):\n",
    "    pass\n",
    "        \n",
    "iterator = iter(range(5))\n",
    "loop_iterator(iterator)"
   ]
  },
  {
   "cell_type": "raw",
   "metadata": {},
   "source": [
    "Expected output:\n",
    "\n",
    "0\n",
    "1\n",
    "2\n",
    "3\n",
    "4"
   ]
  },
  {
   "cell_type": "markdown",
   "metadata": {},
   "source": [
    "### Classes inheritance"
   ]
  },
  {
   "cell_type": "code",
   "execution_count": null,
   "metadata": {},
   "outputs": [],
   "source": [
    "class Rectangle():\n",
    "    def __init__(self, width, height):\n",
    "        self.width = width\n",
    "        self.height = height\n",
    "        \n",
    "    def area(self):\n",
    "        return self.width * self.height\n",
    "    \n",
    "    def perimeter(self):\n",
    "        return (self.width + self.height) * 2\n",
    "    \n",
    "class Rec_Triangle(Rectangle):\n",
    "    \"\"\"Should inherits from Rectangle\"\"\"\n",
    "    pass\n",
    "\n",
    "    \n",
    "rec = Rec_Triangle(3, 2)\n",
    "\n",
    "print(rec.area())\n",
    "print(rec.perimeter())"
   ]
  },
  {
   "cell_type": "raw",
   "metadata": {},
   "source": [
    "Expected output:\n",
    "    \n",
    "3.0\n",
    "8.60555127546399"
   ]
  },
  {
   "cell_type": "markdown",
   "metadata": {},
   "source": [
    "## pandas dataframes"
   ]
  },
  {
   "cell_type": "code",
   "execution_count": null,
   "metadata": {},
   "outputs": [],
   "source": [
    "import pandas as pd"
   ]
  },
  {
   "cell_type": "markdown",
   "metadata": {},
   "source": [
    "### dict to dataframes"
   ]
  },
  {
   "cell_type": "code",
   "execution_count": null,
   "metadata": {},
   "outputs": [],
   "source": [
    "D = '<compléter>'\n",
    "pd.DataFrame(D)"
   ]
  },
  {
   "cell_type": "raw",
   "metadata": {},
   "source": [
    "Expected output:\n",
    "\n",
    "\ta\tb\n",
    "0\t1\t10\n",
    "1\t2\t20"
   ]
  },
  {
   "cell_type": "markdown",
   "metadata": {},
   "source": [
    "### tuples to dataframes"
   ]
  },
  {
   "cell_type": "code",
   "execution_count": null,
   "metadata": {},
   "outputs": [],
   "source": [
    "a = '<compléter>'\n",
    "b = '<compléter>'\n",
    "\n",
    "data = dict([a, b])\n",
    "\n",
    "pd.DataFrame(data)"
   ]
  },
  {
   "cell_type": "raw",
   "metadata": {},
   "source": [
    "Expected output:\n",
    "\n",
    "   a   b\n",
    "0  1  10\n",
    "1  2  20"
   ]
  },
  {
   "cell_type": "markdown",
   "metadata": {},
   "source": [
    "### lists to pandas dataframes"
   ]
  },
  {
   "cell_type": "code",
   "execution_count": null,
   "metadata": {},
   "outputs": [],
   "source": [
    "def key_values_to_df(keys, values):\n",
    "    pass\n",
    "\n",
    "keys = ['a', 'b']\n",
    "values = [[1, 2], [10, 20]]\n",
    "\n",
    "key_values_to_df(keys, values)\n"
   ]
  },
  {
   "cell_type": "raw",
   "metadata": {},
   "source": [
    "Expected output:\n",
    "\n",
    "\ta\tb\n",
    "0\t1\t10\n",
    "1\t2\t20"
   ]
  },
  {
   "cell_type": "markdown",
   "metadata": {},
   "source": [
    "### Play with pandas dataframes"
   ]
  },
  {
   "cell_type": "code",
   "execution_count": 1,
   "metadata": {},
   "outputs": [],
   "source": [
    "import pandas as pd\n",
    "import numpy as np\n",
    "import datetime as dt"
   ]
  },
  {
   "cell_type": "markdown",
   "metadata": {},
   "source": [
    "#### Read from file"
   ]
  },
  {
   "cell_type": "code",
   "execution_count": 2,
   "metadata": {},
   "outputs": [
    {
     "data": {
      "text/html": [
       "<div>\n",
       "<style scoped>\n",
       "    .dataframe tbody tr th:only-of-type {\n",
       "        vertical-align: middle;\n",
       "    }\n",
       "\n",
       "    .dataframe tbody tr th {\n",
       "        vertical-align: top;\n",
       "    }\n",
       "\n",
       "    .dataframe thead th {\n",
       "        text-align: right;\n",
       "    }\n",
       "</style>\n",
       "<table border=\"1\" class=\"dataframe\">\n",
       "  <thead>\n",
       "    <tr style=\"text-align: right;\">\n",
       "      <th></th>\n",
       "      <th>owner</th>\n",
       "      <th>language</th>\n",
       "      <th>repo</th>\n",
       "      <th>stars</th>\n",
       "      <th>commits</th>\n",
       "    </tr>\n",
       "  </thead>\n",
       "  <tbody>\n",
       "    <tr>\n",
       "      <th>0</th>\n",
       "      <td>pandas-dev</td>\n",
       "      <td>python</td>\n",
       "      <td>pandas</td>\n",
       "      <td>17800</td>\n",
       "      <td>133</td>\n",
       "    </tr>\n",
       "    <tr>\n",
       "      <th>1</th>\n",
       "      <td>tidyverse</td>\n",
       "      <td>R</td>\n",
       "      <td>dplyr</td>\n",
       "      <td>2800</td>\n",
       "      <td>52</td>\n",
       "    </tr>\n",
       "    <tr>\n",
       "      <th>2</th>\n",
       "      <td>tidyverse</td>\n",
       "      <td>R</td>\n",
       "      <td>ggplot2</td>\n",
       "      <td>3500</td>\n",
       "      <td>59</td>\n",
       "    </tr>\n",
       "    <tr>\n",
       "      <th>3</th>\n",
       "      <td>has2k1</td>\n",
       "      <td>python</td>\n",
       "      <td>plotnine</td>\n",
       "      <td>1450</td>\n",
       "      <td>38</td>\n",
       "    </tr>\n",
       "  </tbody>\n",
       "</table>\n",
       "</div>"
      ],
      "text/plain": [
       "        owner language      repo  stars  commits\n",
       "0  pandas-dev   python    pandas  17800      133\n",
       "1   tidyverse        R     dplyr   2800       52\n",
       "2   tidyverse        R   ggplot2   3500       59\n",
       "3      has2k1   python  plotnine   1450       38"
      ]
     },
     "execution_count": 2,
     "metadata": {},
     "output_type": "execute_result"
    }
   ],
   "source": [
    "df = pd.'<compléter>'(\"data/owners.csv\")\n",
    "df"
   ]
  },
  {
   "cell_type": "raw",
   "metadata": {},
   "source": [
    "Expected output:\n",
    "\n",
    "        owner language      repo  stars  commits\n",
    "0  pandas-dev   python    pandas  17800      133\n",
    "1   tidyverse        R     dplyr   2800       52\n",
    "2   tidyverse        R   ggplot2   3500       59\n",
    "3      has2k1   python  plotnine   1450       38"
   ]
  },
  {
   "cell_type": "markdown",
   "metadata": {},
   "source": [
    "#### Select by index"
   ]
  },
  {
   "cell_type": "code",
   "execution_count": null,
   "metadata": {},
   "outputs": [],
   "source": [
    "df.iloc['<compléter>']"
   ]
  },
  {
   "cell_type": "raw",
   "metadata": {},
   "source": [
    "Expected output:\n",
    "\n",
    "       repo\n",
    "0    pandas\n",
    "1     dplyr\n",
    "2   ggplot2\n",
    "3  plotnine"
   ]
  },
  {
   "cell_type": "markdown",
   "metadata": {},
   "source": [
    "#### Apply sum on group-by"
   ]
  },
  {
   "cell_type": "code",
   "execution_count": null,
   "metadata": {},
   "outputs": [],
   "source": [
    "df.groupby('language')'<compléter>'"
   ]
  },
  {
   "cell_type": "raw",
   "metadata": {},
   "source": [
    "Expected output:\n",
    "\n",
    "language\n",
    "R          6300\n",
    "python    19250\n",
    "Name: stars, dtype: int64"
   ]
  },
  {
   "cell_type": "markdown",
   "metadata": {},
   "source": [
    "#### Apply multiple functions on group-by"
   ]
  },
  {
   "cell_type": "code",
   "execution_count": null,
   "metadata": {},
   "outputs": [],
   "source": [
    "df.groupby(\"language\")'<compléter>'.agg('<compléter>')"
   ]
  },
  {
   "cell_type": "raw",
   "metadata": {},
   "source": [
    "Expected output:\n",
    "\n",
    "         stars               commits          \n",
    "           min    max    sum     min  max  sum\n",
    "language                                      \n",
    "R         2800   3500   6300      52   59  111\n",
    "python    1450  17800  19250      38  133  171"
   ]
  },
  {
   "cell_type": "markdown",
   "metadata": {},
   "source": [
    "#### Filter on multiple arguments"
   ]
  },
  {
   "cell_type": "code",
   "execution_count": null,
   "metadata": {},
   "outputs": [],
   "source": [
    "print(df[('<compléter>'==\"python\") '<compléter>' ('<compléter>'>5000)])"
   ]
  },
  {
   "cell_type": "raw",
   "metadata": {},
   "source": [
    "Expected output:\n",
    "\n",
    "        owner language    repo  stars  commits\n",
    "0  pandas-dev   python  pandas  17800      133"
   ]
  },
  {
   "cell_type": "markdown",
   "metadata": {},
   "source": [
    "#### Pivot tables"
   ]
  },
  {
   "cell_type": "code",
   "execution_count": 3,
   "metadata": {},
   "outputs": [
    {
     "data": {
      "text/html": [
       "<div>\n",
       "<style scoped>\n",
       "    .dataframe tbody tr th:only-of-type {\n",
       "        vertical-align: middle;\n",
       "    }\n",
       "\n",
       "    .dataframe tbody tr th {\n",
       "        vertical-align: top;\n",
       "    }\n",
       "\n",
       "    .dataframe thead th {\n",
       "        text-align: right;\n",
       "    }\n",
       "</style>\n",
       "<table border=\"1\" class=\"dataframe\">\n",
       "  <thead>\n",
       "    <tr style=\"text-align: right;\">\n",
       "      <th></th>\n",
       "      <th>medal</th>\n",
       "      <th>n</th>\n",
       "      <th>team</th>\n",
       "    </tr>\n",
       "  </thead>\n",
       "  <tbody>\n",
       "    <tr>\n",
       "      <th>0</th>\n",
       "      <td>Gold</td>\n",
       "      <td>1</td>\n",
       "      <td>A</td>\n",
       "    </tr>\n",
       "    <tr>\n",
       "      <th>1</th>\n",
       "      <td>Silver</td>\n",
       "      <td>1</td>\n",
       "      <td>A</td>\n",
       "    </tr>\n",
       "    <tr>\n",
       "      <th>2</th>\n",
       "      <td>Bronze</td>\n",
       "      <td>1</td>\n",
       "      <td>B</td>\n",
       "    </tr>\n",
       "    <tr>\n",
       "      <th>3</th>\n",
       "      <td>Gold</td>\n",
       "      <td>1</td>\n",
       "      <td>B</td>\n",
       "    </tr>\n",
       "    <tr>\n",
       "      <th>4</th>\n",
       "      <td>Silver</td>\n",
       "      <td>1</td>\n",
       "      <td>B</td>\n",
       "    </tr>\n",
       "    <tr>\n",
       "      <th>5</th>\n",
       "      <td>Silver</td>\n",
       "      <td>1</td>\n",
       "      <td>A</td>\n",
       "    </tr>\n",
       "  </tbody>\n",
       "</table>\n",
       "</div>"
      ],
      "text/plain": [
       "    medal  n team\n",
       "0    Gold  1    A\n",
       "1  Silver  1    A\n",
       "2  Bronze  1    B\n",
       "3    Gold  1    B\n",
       "4  Silver  1    B\n",
       "5  Silver  1    A"
      ]
     },
     "execution_count": 3,
     "metadata": {},
     "output_type": "execute_result"
    }
   ],
   "source": [
    "medals = pd.read_csv('data/medals.csv')\n",
    "medals"
   ]
  },
  {
   "cell_type": "code",
   "execution_count": null,
   "metadata": {},
   "outputs": [],
   "source": [
    "medals.pivot_table('<compléter>')"
   ]
  },
  {
   "cell_type": "raw",
   "metadata": {},
   "source": [
    "Expected output:\n",
    "\n",
    "medal  Bronze  Gold  Silver\n",
    "team                       \n",
    "A         NaN   1.0     2.0\n",
    "B         1.0   1.0     1.0"
   ]
  },
  {
   "cell_type": "markdown",
   "metadata": {},
   "source": [
    "#### Manipulate strings"
   ]
  },
  {
   "cell_type": "markdown",
   "metadata": {},
   "source": [
    "##### Convert to uppercase"
   ]
  },
  {
   "cell_type": "code",
   "execution_count": null,
   "metadata": {},
   "outputs": [],
   "source": [
    "data = pd.Series(['apple','banana','apple', 'banana'])\n",
    "'<compléter>'"
   ]
  },
  {
   "cell_type": "raw",
   "metadata": {},
   "source": [
    "Expected output:\n",
    "\n",
    "0     APPLE\n",
    "1    BANANA\n",
    "2     APPLE\n",
    "3    BANANA\n",
    "dtype: object"
   ]
  },
  {
   "cell_type": "markdown",
   "metadata": {},
   "source": [
    "##### Contains pattern ('ba')"
   ]
  },
  {
   "cell_type": "code",
   "execution_count": null,
   "metadata": {},
   "outputs": [],
   "source": [
    "'<compléter>'"
   ]
  },
  {
   "cell_type": "raw",
   "metadata": {},
   "source": [
    "Expected output:\n",
    "\n",
    "0    False\n",
    "1     True\n",
    "2    False\n",
    "3     True\n",
    "dtype: bool"
   ]
  },
  {
   "cell_type": "markdown",
   "metadata": {},
   "source": [
    "##### combine strings"
   ]
  },
  {
   "cell_type": "code",
   "execution_count": null,
   "metadata": {},
   "outputs": [],
   "source": [
    "keys = ['first_name', 'last_name']\n",
    "values = [['Roger', 'Rafael', 'Novak'], ['Federer', 'Nadal', 'Djokovic']]\n",
    "df = '<compléter>'\n",
    "df"
   ]
  },
  {
   "cell_type": "code",
   "execution_count": null,
   "metadata": {},
   "outputs": [],
   "source": [
    "df['full_name'] = '<compléter>'\n",
    "print(df)"
   ]
  },
  {
   "cell_type": "raw",
   "metadata": {},
   "source": [
    "Expected output:\n",
    "\n",
    "  first_name last_name       full_name\n",
    "0      Roger   Federer   Roger Federer\n",
    "1     Rafael     Nadal    Rafael Nadal\n",
    "2      Novak  Djokovic  Novak Djokovic"
   ]
  },
  {
   "cell_type": "markdown",
   "metadata": {},
   "source": [
    "##### Split and expand"
   ]
  },
  {
   "cell_type": "code",
   "execution_count": null,
   "metadata": {},
   "outputs": [],
   "source": [
    "'<compléter>'"
   ]
  },
  {
   "cell_type": "raw",
   "metadata": {},
   "source": [
    "Expected output:\n",
    "    \n",
    "        0         1\n",
    "0   Roger   Federer\n",
    "1  Rafael     Nadal\n",
    "2   Novak  Djokovic"
   ]
  },
  {
   "cell_type": "markdown",
   "metadata": {},
   "source": [
    "#### Map function"
   ]
  },
  {
   "cell_type": "code",
   "execution_count": null,
   "metadata": {},
   "outputs": [],
   "source": [
    "df = pd.DataFrame({'eggs': [47, 110, 221], 'salt': [12.0, 50.0, 89.0]}, index = ['jan', 'feb', 'mar'])\n",
    "df"
   ]
  },
  {
   "cell_type": "code",
   "execution_count": null,
   "metadata": {},
   "outputs": [],
   "source": [
    "salt_classes = '<compléter>'\n",
    "df['salt level'] = (df['salt'] > 80).'<compléter>'\n",
    "print(df)"
   ]
  },
  {
   "cell_type": "raw",
   "metadata": {},
   "source": [
    "Expected output:\n",
    "\n",
    "     eggs  salt salt level\n",
    "jan    47  12.0        low\n",
    "feb   110  50.0        low\n",
    "mar   221  89.0       high"
   ]
  },
  {
   "cell_type": "markdown",
   "metadata": {},
   "source": [
    "#### Dates"
   ]
  },
  {
   "cell_type": "code",
   "execution_count": null,
   "metadata": {},
   "outputs": [],
   "source": [
    "x = pd.Series([\"12/01/2017\", \"09/03/2018\", \"23/11/2019\"]) \n",
    "\n",
    "pd.to_datetime('<compléter>')"
   ]
  },
  {
   "cell_type": "raw",
   "metadata": {},
   "source": [
    "Expected output:\n",
    "\n",
    "0   2017-01-12\n",
    "1   2018-03-09\n",
    "2   2019-11-23\n",
    "dtype: datetime64[ns]"
   ]
  },
  {
   "cell_type": "markdown",
   "metadata": {},
   "source": [
    "#### Combine dataframes"
   ]
  },
  {
   "cell_type": "markdown",
   "metadata": {},
   "source": [
    "##### concat"
   ]
  },
  {
   "cell_type": "code",
   "execution_count": null,
   "metadata": {},
   "outputs": [],
   "source": [
    "eggs = pd.DataFrame({'eggs': [10, 20]})\n",
    "salt = pd.DataFrame({'salt': [120, 240]})\n",
    "pd.concat('<compléter>')"
   ]
  },
  {
   "cell_type": "raw",
   "metadata": {},
   "source": [
    "Expected output:\n",
    "\n",
    "   eggs  salt\n",
    "0    10   120\n",
    "1    20   240"
   ]
  },
  {
   "cell_type": "markdown",
   "metadata": {},
   "source": [
    "##### append"
   ]
  },
  {
   "cell_type": "code",
   "execution_count": null,
   "metadata": {},
   "outputs": [],
   "source": [
    "df_1 = pd.DataFrame({'month': ['jan', 'feb'], 'eggs': [10, 12]})\n",
    "df_2 = pd.DataFrame({'month': ['mar', 'apr'], 'eggs': [15, 18]})\n",
    "df_1.append('<compléter>')"
   ]
  },
  {
   "cell_type": "raw",
   "metadata": {},
   "source": [
    "Expected output:\n",
    "\n",
    "  month  eggs\n",
    "0   jan    10\n",
    "1   feb    12\n",
    "2   mar    15\n",
    "3   apr    18"
   ]
  },
  {
   "cell_type": "markdown",
   "metadata": {},
   "source": [
    "##### merge outer"
   ]
  },
  {
   "cell_type": "code",
   "execution_count": null,
   "metadata": {},
   "outputs": [],
   "source": [
    "df_1 = pd.DataFrame({'month': ['jan', 'feb'], 'eggs': [10, 12]})\n",
    "df_2 = pd.DataFrame({'month': ['jan', 'mar'], 'salt': [152, 187]})\n",
    "df_1.merge('<compléter>')"
   ]
  },
  {
   "cell_type": "raw",
   "metadata": {},
   "source": [
    "Expected ouput:\n",
    "\n",
    "  month  eggs   salt\n",
    "0   jan  10.0  152.0\n",
    "1   feb  12.0    NaN\n",
    "2   mar   NaN  187.0"
   ]
  },
  {
   "cell_type": "markdown",
   "metadata": {},
   "source": [
    "##### merge left"
   ]
  },
  {
   "cell_type": "code",
   "execution_count": null,
   "metadata": {},
   "outputs": [],
   "source": [
    "df_1.merge('<compléter>')"
   ]
  },
  {
   "cell_type": "raw",
   "metadata": {},
   "source": [
    "Expected output:\n",
    "    \n",
    "  month  eggs   salt\n",
    "0   jan    10  152.0\n",
    "1   feb    12    NaN"
   ]
  },
  {
   "cell_type": "markdown",
   "metadata": {},
   "source": [
    "##### merge inner"
   ]
  },
  {
   "cell_type": "code",
   "execution_count": null,
   "metadata": {},
   "outputs": [],
   "source": [
    "df_1.merge('<compléter>')"
   ]
  },
  {
   "cell_type": "raw",
   "metadata": {},
   "source": [
    "Expected output:\n",
    "    \n",
    "  month  eggs  salt\n",
    "0   jan    10   152"
   ]
  },
  {
   "cell_type": "markdown",
   "metadata": {},
   "source": [
    "#### Missing values"
   ]
  },
  {
   "cell_type": "code",
   "execution_count": 4,
   "metadata": {},
   "outputs": [
    {
     "data": {
      "text/html": [
       "<div>\n",
       "<style scoped>\n",
       "    .dataframe tbody tr th:only-of-type {\n",
       "        vertical-align: middle;\n",
       "    }\n",
       "\n",
       "    .dataframe tbody tr th {\n",
       "        vertical-align: top;\n",
       "    }\n",
       "\n",
       "    .dataframe thead th {\n",
       "        text-align: right;\n",
       "    }\n",
       "</style>\n",
       "<table border=\"1\" class=\"dataframe\">\n",
       "  <thead>\n",
       "    <tr style=\"text-align: right;\">\n",
       "      <th></th>\n",
       "      <th>id</th>\n",
       "      <th>score</th>\n",
       "    </tr>\n",
       "  </thead>\n",
       "  <tbody>\n",
       "    <tr>\n",
       "      <th>0</th>\n",
       "      <td>7134</td>\n",
       "      <td>75.0</td>\n",
       "    </tr>\n",
       "    <tr>\n",
       "      <th>1</th>\n",
       "      <td>4020</td>\n",
       "      <td>94.0</td>\n",
       "    </tr>\n",
       "    <tr>\n",
       "      <th>2</th>\n",
       "      <td>6757</td>\n",
       "      <td>NaN</td>\n",
       "    </tr>\n",
       "    <tr>\n",
       "      <th>3</th>\n",
       "      <td>2561</td>\n",
       "      <td>91.0</td>\n",
       "    </tr>\n",
       "    <tr>\n",
       "      <th>4</th>\n",
       "      <td>6875</td>\n",
       "      <td>NaN</td>\n",
       "    </tr>\n",
       "  </tbody>\n",
       "</table>\n",
       "</div>"
      ],
      "text/plain": [
       "     id  score\n",
       "0  7134   75.0\n",
       "1  4020   94.0\n",
       "2  6757    NaN\n",
       "3  2561   91.0\n",
       "4  6875    NaN"
      ]
     },
     "execution_count": 4,
     "metadata": {},
     "output_type": "execute_result"
    }
   ],
   "source": [
    "df = pd.read_csv('data/df_NA_1.csv')\n",
    "df"
   ]
  },
  {
   "cell_type": "code",
   "execution_count": null,
   "metadata": {},
   "outputs": [],
   "source": [
    "df.'<compléter>'"
   ]
  },
  {
   "cell_type": "raw",
   "metadata": {},
   "source": [
    "Expected output:\n",
    "\n",
    "     id  score\n",
    "0  7134   75.0\n",
    "1  4020   94.0\n",
    "2  6757   80.0\n",
    "3  2561   91.0\n",
    "4  6875   80.0"
   ]
  },
  {
   "cell_type": "markdown",
   "metadata": {},
   "source": [
    "#### Reorganize data"
   ]
  },
  {
   "cell_type": "code",
   "execution_count": null,
   "metadata": {},
   "outputs": [],
   "source": [
    "keys = ['Australia', 'Spain', 'France', 'Italy']\n",
    "values = [24.6, 46.7, 67.0, 60.6]\n",
    "df = pd.DataFrame(dict(zip(keys, values)), index=[0])\n",
    "df"
   ]
  },
  {
   "cell_type": "code",
   "execution_count": null,
   "metadata": {},
   "outputs": [],
   "source": [
    "'<compléter>'"
   ]
  },
  {
   "cell_type": "raw",
   "metadata": {},
   "source": [
    "Expected output:\n",
    "\n",
    "     country  population\n",
    "0  Australia        24.6\n",
    "1      Spain        46.7\n",
    "2     France        67.0\n",
    "3      Italy        60.6"
   ]
  },
  {
   "cell_type": "markdown",
   "metadata": {},
   "source": [
    "## Challenges"
   ]
  },
  {
   "cell_type": "code",
   "execution_count": 5,
   "metadata": {},
   "outputs": [],
   "source": [
    "#####################\n",
    "# Implemented for you\n",
    "#####################\n",
    "\n",
    "import os\n",
    "\n",
    "def load(folder, filename):\n",
    "    path = os.path.join(folder, filename)\n",
    "    with open(os.path.join(path), 'r') as f:\n",
    "        n = f.readline()\n",
    "        values = f.readline().strip()\n",
    "    return n, values"
   ]
  },
  {
   "cell_type": "markdown",
   "metadata": {},
   "source": [
    "### Repeat strings"
   ]
  },
  {
   "cell_type": "markdown",
   "metadata": {},
   "source": [
    "<p>There is a string, <span style=\"font-style: italic;\">s</span>, of lowercase English letters that is repeated infinitely many times.</p>\n",
    "<p>Given an integer, <span style=\"font-style: italic;\">n</span>, find and print the number of letter <span style=\"font-style: italic;\">a's</span> in the first <span style=\"font-style: italic;\">n</span> letters of the infinite string.</p>\n",
    "\n",
    "Example:\n",
    "- s = 'abcac'\n",
    "- n = 10\n",
    "\n",
    "<p>The infinite string is abcacabcacabca ... cabcacabcacabcacabcacabcac ... </p>\n",
    "<p>The substring of length <span style=\"font-style: italic;\">n = 10</span> we consider is <span style=\"font-style: italic;\">abcacabcac</span>, which corresponds to the first 10 characters of the infinite string.</p>\n",
    "<p>In that substring there are <span style=\"font-style: italic;\">4</span> occurrences of <span style=\"font-style: italic;\">'a'</span></p>\n"
   ]
  },
  {
   "cell_type": "code",
   "execution_count": 6,
   "metadata": {},
   "outputs": [
    {
     "name": "stdout",
     "output_type": "stream",
     "text": [
      "s: aba\n",
      "n: 10\n",
      "\n",
      "a count: None\n"
     ]
    }
   ],
   "source": [
    "def count_a(string, n):\n",
    "    pass\n",
    "\n",
    "n, string = load(\"repeated-string-testcases/input/\", 'input00.txt')\n",
    "\n",
    "print(f\"s: {string}\")\n",
    "print(f\"n: {n}\")\n",
    "print(f\"a count: {count_a(string, int(n))}\")"
   ]
  },
  {
   "cell_type": "raw",
   "metadata": {},
   "source": [
    "Expected output:\n",
    "\n",
    "a count: 7"
   ]
  },
  {
   "cell_type": "markdown",
   "metadata": {},
   "source": [
    "### Cut the sticks"
   ]
  },
  {
   "cell_type": "markdown",
   "metadata": {},
   "source": [
    "You are given N sticks, where the length of each stick is a positive integer. A cut operation is performed\n",
    "on the sticks such that all of them are reduced by the length of the smallest stick.\n",
    "\n",
    "example:\n",
    "- Suppose we have six sticks of the following lengths: 5, 4, 4, 2, 2, 8\n",
    "- Then, in one cut operation we make a cut of length 2 from each of the six sticks.\n",
    "- For the next cut operation four sticks are left (of non-zero length), whose lengths are the following: 3 2 2 6,\n",
    "  and again the smallest is of length 2.\n",
    "- The above step is repeated until no sticks are left.\n",
    "\n",
    "Given the length of N sticks, print the number of sticks that are left\n",
    "<ins style=\"font-size: 16px; font-weight: bold\">before</ins>\n",
    "each subsequent cut operations.\n",
    "\n",
    "<p style=\"font-style: italic; color: blue;\">Note: before each cut operation, you must to get the length of smallest sticks, <b>excluding</b> zero-length sticks.</p>"
   ]
  },
  {
   "cell_type": "code",
   "execution_count": 7,
   "metadata": {},
   "outputs": [
    {
     "name": "stdout",
     "output_type": "stream",
     "text": [
      "list of sticks: [5, 4, 4, 2, 2, 8]\n"
     ]
    }
   ],
   "source": [
    "def cut_the_sticks(sticks):\n",
    "    pass\n",
    "\n",
    "_, sticks = load(\"cut-the-sticks-testcases/input/\", 'input08.txt')\n",
    "sticks = [int(s) for s in sticks if s != ' ']\n",
    "\n",
    "print(f\"list of sticks: {sticks}\")\n",
    "cut_the_sticks(sticks)"
   ]
  },
  {
   "cell_type": "raw",
   "metadata": {},
   "source": [
    "Expected output:\n",
    "\n",
    "6\n",
    "4\n",
    "2\n",
    "1"
   ]
  },
  {
   "cell_type": "markdown",
   "metadata": {},
   "source": [
    "## Machine Learning basics\n"
   ]
  },
  {
   "cell_type": "markdown",
   "metadata": {},
   "source": [
    "### Load packages"
   ]
  },
  {
   "cell_type": "code",
   "execution_count": 8,
   "metadata": {},
   "outputs": [],
   "source": [
    "import pandas as pd\n",
    "import numpy as np\n",
    "import matplotlib.pyplot as plt\n",
    "from sklearn import linear_model as lm\n",
    "from sklearn.model_selection import train_test_split\n",
    "\n",
    "%matplotlib inline"
   ]
  },
  {
   "cell_type": "code",
   "execution_count": 9,
   "metadata": {},
   "outputs": [],
   "source": [
    "df = pd.read_csv('data/linear_reg_data.csv')\n",
    "x = np.array(df.x).reshape(-1, 1)\n",
    "y = np.array(df.y)"
   ]
  },
  {
   "cell_type": "markdown",
   "metadata": {},
   "source": [
    "### Q-31 : Construire un scatter plot "
   ]
  },
  {
   "cell_type": "code",
   "execution_count": null,
   "metadata": {},
   "outputs": [],
   "source": [
    "'<compléter>'\n",
    "plt.show()"
   ]
  },
  {
   "cell_type": "markdown",
   "metadata": {},
   "source": [
    "#### Expected output:\n",
    "<img src='figures/lin_reg_0.png?1'>"
   ]
  },
  {
   "cell_type": "markdown",
   "metadata": {},
   "source": [
    "### Q-32 : Construire des données d'apprentissage et test (conserver les proportions par défaut)"
   ]
  },
  {
   "cell_type": "code",
   "execution_count": null,
   "metadata": {},
   "outputs": [],
   "source": [
    "x_train, x_test, y_train, y_test = '<compléter>'(x, y, random_state=42)"
   ]
  },
  {
   "cell_type": "markdown",
   "metadata": {},
   "source": [
    "### Q-33 : initialiser et entrainer un modèle de régression linéaire sur les données d'apprentissage"
   ]
  },
  {
   "cell_type": "code",
   "execution_count": null,
   "metadata": {},
   "outputs": [],
   "source": [
    "lin_reg = lm.LinearRegression()\n",
    "lin_reg.fit('<compléter>')"
   ]
  },
  {
   "cell_type": "markdown",
   "metadata": {},
   "source": [
    "### Q-34 : renvoyer le coefficient de détermination de la régression"
   ]
  },
  {
   "cell_type": "code",
   "execution_count": null,
   "metadata": {},
   "outputs": [],
   "source": [
    "lin_reg.score('<compléter>')"
   ]
  },
  {
   "cell_type": "raw",
   "metadata": {},
   "source": [
    "Expected output:\n",
    "\n",
    "0.893653472183284"
   ]
  },
  {
   "cell_type": "markdown",
   "metadata": {},
   "source": [
    "### Q-35 : implémenter unr fonction RMSE() qui renvoie la moyenne des écarts quadratiques"
   ]
  },
  {
   "cell_type": "code",
   "execution_count": null,
   "metadata": {},
   "outputs": [],
   "source": [
    "fitted = lin_reg.predict('<compléter>')\n",
    "\n",
    "def RMSE(obs, fitted):\n",
    "    \"\"\"Compute the RMSE, given the observed and fitted values\"\"\"\n",
    "    pass\n",
    "\n",
    "print(f\"<compléter>\")"
   ]
  },
  {
   "cell_type": "raw",
   "metadata": {},
   "source": [
    "Expected output:\n",
    "\n",
    "RMSE: 2.0311732316663704"
   ]
  },
  {
   "cell_type": "markdown",
   "metadata": {},
   "source": [
    "### Q-36 : renvoyer l'ordonnée à l'origine (intercept) et la pente de la droite de régression"
   ]
  },
  {
   "cell_type": "code",
   "execution_count": null,
   "metadata": {},
   "outputs": [],
   "source": [
    "print('y-intercept: %.3f' % lin_reg.'<compléter>')\n",
    "print('slope: %.3f' % lin_reg.'<compléter>')"
   ]
  },
  {
   "cell_type": "raw",
   "metadata": {},
   "source": [
    "Expected output:\n",
    "    \n",
    "y-intercept: 0.183\n",
    "slope: 1.963"
   ]
  },
  {
   "cell_type": "markdown",
   "metadata": {},
   "source": [
    "### Q-37 : représenter le nuage de points et la droite de régression"
   ]
  },
  {
   "cell_type": "code",
   "execution_count": null,
   "metadata": {},
   "outputs": [],
   "source": [
    "plt.scatter(x, y)\n",
    "'<compléter>'\n",
    "plt.show()"
   ]
  },
  {
   "cell_type": "markdown",
   "metadata": {},
   "source": [
    "#### Expected output:\n",
    "<img src='figures/lin_reg_1.png?1'>"
   ]
  },
  {
   "cell_type": "markdown",
   "metadata": {},
   "source": [
    "### Lecture des données"
   ]
  },
  {
   "cell_type": "code",
   "execution_count": null,
   "metadata": {},
   "outputs": [],
   "source": [
    "df = pd.read_csv('data/logistic_reg_data.csv')\n",
    "df.head()"
   ]
  },
  {
   "cell_type": "markdown",
   "metadata": {},
   "source": [
    "### Q-38 : Assigner les colonnes df.x et df.y aux variables x et y, respectivement"
   ]
  },
  {
   "cell_type": "code",
   "execution_count": null,
   "metadata": {},
   "outputs": [],
   "source": [
    "x = '<compléter>'\n",
    "y = '<compléter>'"
   ]
  },
  {
   "cell_type": "markdown",
   "metadata": {},
   "source": [
    "### Q-39 : représenter les données"
   ]
  },
  {
   "cell_type": "code",
   "execution_count": null,
   "metadata": {},
   "outputs": [],
   "source": [
    "'<compléter>'"
   ]
  },
  {
   "cell_type": "markdown",
   "metadata": {},
   "source": [
    "#### Expected output:\n",
    "<img src='figures/log_reg_0.png?1'>"
   ]
  },
  {
   "cell_type": "markdown",
   "metadata": {},
   "source": [
    "### Q-39 : Construire des données d'apprentissage et de test (garder les proportions pas défaut)"
   ]
  },
  {
   "cell_type": "code",
   "execution_count": null,
   "metadata": {},
   "outputs": [],
   "source": [
    "'<compléter>' = train_test_split(x, y, random_state=42)"
   ]
  },
  {
   "cell_type": "markdown",
   "metadata": {},
   "source": [
    "### Q-40 : Initialier et entrainer le modèle sur les données d'apprentissage"
   ]
  },
  {
   "cell_type": "code",
   "execution_count": null,
   "metadata": {},
   "outputs": [],
   "source": [
    "log_reg = lm.LogisticRegression()\n",
    "log_reg.'<compléter>'('<compléter>')"
   ]
  },
  {
   "cell_type": "markdown",
   "metadata": {},
   "source": [
    "### Q-41  : renvoyer la performance du modèle (accuracy)"
   ]
  },
  {
   "cell_type": "code",
   "execution_count": null,
   "metadata": {},
   "outputs": [],
   "source": [
    "'<compléter>'"
   ]
  },
  {
   "cell_type": "raw",
   "metadata": {},
   "source": [
    "Expected output:\n",
    "\n",
    "Accuracy: 0.72"
   ]
  },
  {
   "cell_type": "markdown",
   "metadata": {},
   "source": [
    "### Q-42 : Contruire la table de contingence de la performance sur les prédictions (obs vs. predit)"
   ]
  },
  {
   "cell_type": "code",
   "execution_count": null,
   "metadata": {},
   "outputs": [],
   "source": [
    "pred = log_reg.predict(x_test)\n",
    "observed = y_test.reshape(1, -1)[0]\n",
    "\n",
    "ct = pd.'<compléter>'(observed, pred).reset_index(drop=True)\n",
    "ct"
   ]
  },
  {
   "cell_type": "raw",
   "metadata": {},
   "source": [
    "Expected output:\n",
    "\n",
    "col_0  0   1\n",
    "0      6   1\n",
    "1      6  12"
   ]
  },
  {
   "cell_type": "markdown",
   "metadata": {},
   "source": [
    "### Q-43 : Définir des fonctions permettant de renvoyer les métriques suivantes:\n",
    "\n",
    "* Accuracy\n",
    "* Precision\n",
    "* Recall\n",
    "* F1-score"
   ]
  },
  {
   "cell_type": "code",
   "execution_count": null,
   "metadata": {},
   "outputs": [],
   "source": [
    "###################################\n",
    "# Compléter les fonctions suivantes\n",
    "###################################\n",
    "\n",
    "def accuracy(observed, fitted):\n",
    "    \"\"\"Compute accurary, given observed and fitted values\"\"\"\n",
    "    pass\n",
    "\n",
    "def precision(observed, fitted):\n",
    "    \"\"\"Compute precision, given observed and fitted values\"\"\"\n",
    "    pass\n",
    "\n",
    "def recall(observed, fitted):\n",
    "    \"\"\"Compute recall, given observed and fitted values\"\"\"\n",
    "    pass\n",
    "\n",
    "def F1_score(observed, fitted):\n",
    "    \"\"\"Compute F1-score, given observed and fitted values\"\"\"\n",
    "    pass\n"
   ]
  },
  {
   "cell_type": "code",
   "execution_count": null,
   "metadata": {},
   "outputs": [],
   "source": [
    "print(\"Accuracy:\\t%.2f\" % accuracy(observed, pred))\n",
    "print(\"Precision:\\t%.2f\" % precision(observed, pred))\n",
    "print(\"Recall:\\t\\t%.2f\" % recall(observed, pred))\n",
    "print(\"F1-score:\\t%.2f\" % F1_score(observed, pred))"
   ]
  },
  {
   "cell_type": "raw",
   "metadata": {},
   "source": [
    "Expected outputs:\n",
    "    \n",
    "Accuracy:\t0.72\n",
    "Precision:\t0.92\n",
    "Recall:\t\t0.67\n",
    "F1-score:\t0.77"
   ]
  },
  {
   "cell_type": "markdown",
   "metadata": {},
   "source": [
    "### Q-44 : Calculer les probabilités <i>P(y = 1 | x)</i> à partir des coefficients de la régression"
   ]
  },
  {
   "cell_type": "code",
   "execution_count": null,
   "metadata": {},
   "outputs": [],
   "source": [
    "new_x = np.linspace(np.min(x), np.max(x), 100)\n",
    "\n",
    "b0, b1 = log_reg.'<compléter>', log_reg.'<compléter>'\n",
    "z = '<compléter>'\n",
    "prob = '<compléter>'\n",
    "prob[:10], prob[-10:]"
   ]
  },
  {
   "cell_type": "raw",
   "metadata": {},
   "source": [
    "Expected output:\n",
    "\n",
    "(array([0.97568396, 0.97370718, 0.97157439, 0.96927406, 0.96679393,\n",
    "        0.96412102, 0.96124158, 0.95814109, 0.95480423, 0.95121492]),\n",
    " array([0.02861292, 0.02646645, 0.02447696, 0.02263353, 0.02092597,\n",
    "        0.01934467, 0.01788069, 0.01652563, 0.01527167, 0.01411149]))"
   ]
  },
  {
   "cell_type": "markdown",
   "metadata": {},
   "source": [
    "### Q-45 : Représenter les données originales et la courbe de régression logistique"
   ]
  },
  {
   "cell_type": "code",
   "execution_count": null,
   "metadata": {},
   "outputs": [],
   "source": [
    "plt.scatter(x, y)\n",
    "'<compléter>'\n",
    "plt.show()"
   ]
  },
  {
   "cell_type": "markdown",
   "metadata": {},
   "source": [
    "#### Expected output:\n",
    "<img src='figures/log_reg_1.png?2'>"
   ]
  },
  {
   "cell_type": "markdown",
   "metadata": {},
   "source": [
    "## Implémenter un KMeans de A à Z (from scratch)\n",
    "<p style='font-size: 16px'>Evaluez votre code sur les données crabs</p>"
   ]
  },
  {
   "cell_type": "code",
   "execution_count": null,
   "metadata": {},
   "outputs": [],
   "source": [
    "import pandas as pd\n",
    "\n",
    "crabs = pd.read_csv('data/crabs.csv', sep=\";\")\n",
    "crabs.head()"
   ]
  },
  {
   "cell_type": "code",
   "execution_count": null,
   "metadata": {},
   "outputs": [],
   "source": [
    "def my_kmeans(X, n_center, n_start, max_iter):\n",
    "    \"\"\"\n",
    "    Compute kmeans given n_centers\n",
    "    \n",
    "    Args:\n",
    "        X (array): a nxp matrix, with n observations and p variables\n",
    "        n_centers (int): the number of centers (clusters)\n",
    "        n_start (int): the number of new initialization\n",
    "        max_iter (int): the maximum number of iterations, in case the convergence is not reached.\n",
    "        \n",
    "    Returns:\n",
    "        A vector of integers representing the cluster index for each observation\n",
    "    \"\"\"\n",
    "    pass"
   ]
  },
  {
   "cell_type": "markdown",
   "metadata": {},
   "source": [
    "#### Illustrative output (you may get slightly different results):\n",
    "<img src='figures/Kmeans_crabs.png'>"
   ]
  },
  {
   "cell_type": "markdown",
   "metadata": {},
   "source": [
    "<p style='text-align: center; font-weight: 900; font-size: 30px'>----------------------------------------</p>\n",
    "<p style='text-align: center; font-weight: 900; font-size: 30px'>Etude de cas #1</p>\n",
    "<p style='text-align: center; font-weight: 900; font-size: 30px'>----------------------------------------</p>\n",
    "\n",
    "<p  style='font-weight: 600; font-size: 18px'>Un groupe leader des cosmétiques souhaite lancer une nouvelle crème de soin.</p>\n",
    "<p  style='font-weight: 600; font-size: 18px'>La phase de lancement du produit est maitrisée, et les réponses des consommateurs au push d'un nouveau produit sont relativemnt bien estimées. En revanche, il est plus difficile de prédire les niveaux de vente qui suivront, après les 2 à 3 semaines de promotion.</p>\n",
    "<p  style='font-weight: 600; font-size: 18px'>Dans ce contexte de mise sur le marché d'un nouveau produit, quelle(s) stratégie(s) ou approche(s) pourriez-vous proposer afin d'estimer les niveaux de ventes de ce nouveau produit, après la phase de lancement. La production doit être plannifiée 2 semaines à l'avance.</p>\n",
    "\n"
   ]
  },
  {
   "cell_type": "raw",
   "metadata": {},
   "source": [
    "Vos propositions\n",
    "------------------\n",
    "\n",
    "\n"
   ]
  },
  {
   "cell_type": "markdown",
   "metadata": {},
   "source": [
    "<p style='text-align: center; font-weight: 900; font-size: 30px'>----------------------------------------</p>\n",
    "<p style='text-align: center; font-weight: 900; font-size: 30px'>Etude de cas #2</p>\n",
    "<p style='text-align: center; font-weight: 900; font-size: 30px'>----------------------------------------</p>\n",
    "\n",
    "### 3 datasets sont disponible au format .csv dans votre répertore data/\n",
    "\n",
    "* airports_full.csv\n",
    "* flights_small.csv\n",
    "* planes.csv\n",
    "\n",
    "### Recherchez des informations sur ces données publiques pour comprendre le contenu de chaque champ\n",
    "\n",
    "Ressources possibles:\n",
    "\n",
    "* https://openflights.org/data.html#airline\n",
    "* https://cran.r-project.org/web/packages/nycflights13/nycflights13.pdf\n",
    "\n",
    "### Procédez à une analyse descriptive\n",
    "\n",
    "### Proposez un modèle prédictif des retards"
   ]
  },
  {
   "cell_type": "code",
   "execution_count": null,
   "metadata": {},
   "outputs": [],
   "source": [
    "#####################\n",
    "# Charger les données\n",
    "#####################\n",
    "import pandas as pd\n",
    "\n",
    "airports = pd.read_csv('data/airports_full.csv')\n",
    "flights = pd.read_csv('data/flights_small.csv')\n",
    "planes = pd.read_csv('data/planes.csv')"
   ]
  },
  {
   "cell_type": "code",
   "execution_count": null,
   "metadata": {},
   "outputs": [],
   "source": [
    "# Charger les librairies (choix libre)"
   ]
  }
 ],
 "metadata": {
  "kernelspec": {
   "display_name": "Python (py36)",
   "language": "python",
   "name": "py36"
  },
  "language_info": {
   "codemirror_mode": {
    "name": "ipython",
    "version": 3
   },
   "file_extension": ".py",
   "mimetype": "text/x-python",
   "name": "python",
   "nbconvert_exporter": "python",
   "pygments_lexer": "ipython3",
   "version": "3.6.6"
  },
  "toc": {
   "base_numbering": 1,
   "nav_menu": {
    "height": "248px",
    "width": "252px"
   },
   "number_sections": true,
   "sideBar": true,
   "skip_h1_title": false,
   "title_cell": "Table of Contents",
   "title_sidebar": "Contents",
   "toc_cell": false,
   "toc_position": {},
   "toc_section_display": true,
   "toc_window_display": true
  }
 },
 "nbformat": 4,
 "nbformat_minor": 2
}
